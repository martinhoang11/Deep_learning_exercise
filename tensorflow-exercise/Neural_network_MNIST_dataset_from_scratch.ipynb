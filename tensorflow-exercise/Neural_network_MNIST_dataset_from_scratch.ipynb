{
 "cells": [
  {
   "cell_type": "code",
   "execution_count": 1,
   "metadata": {},
   "outputs": [],
   "source": [
    "import numpy as np\n",
    "import matplotlib.pyplot as plt"
   ]
  },
  {
   "cell_type": "code",
   "execution_count": 2,
   "metadata": {},
   "outputs": [],
   "source": [
    "#create Neural network\n",
    "class NeuralNetwork:\n",
    "    \n",
    "    def __init__(self, layers_size):\n",
    "        weight_shape = [(a,b) for a,b in zip(layers_size[1:], layers_size[:-1])]\n",
    "        self.weights = [np.random.standard_normal(s)/s[1]**.5 for s in weight_shape]\n",
    "        self.biases  = [np.ones((b, 1)) for b in layers_size[1:]]\n",
    "        \n",
    "    @staticmethod\n",
    "    def sigmoid(x):\n",
    "        return 1 / (1 + np.exp(-x))\n",
    "    \n",
    "    def predict(self, a):\n",
    "        for w,b in zip(self.weights, self.biases):\n",
    "            a = self.sigmoid(np.matmul(w, a) + b)\n",
    "        return a"
   ]
  },
  {
   "cell_type": "code",
   "execution_count": 4,
   "metadata": {},
   "outputs": [
    {
     "data": {
      "text/plain": [
       "array([[0.34651225],\n",
       "       [0.87784832],\n",
       "       [0.88726704],\n",
       "       [0.50252575],\n",
       "       [0.47260091],\n",
       "       [0.85685155],\n",
       "       [0.6821077 ],\n",
       "       [0.92104047],\n",
       "       [0.71533533],\n",
       "       [0.76537364]])"
      ]
     },
     "execution_count": 4,
     "metadata": {},
     "output_type": "execute_result"
    }
   ],
   "source": [
    "layers_size = (2,6, 10)\n",
    "x = np.ones((layers_size[0], 1))\n",
    "\n",
    "nn = NeuralNetwork(layers_size)\n",
    "\n",
    "predict = nn.predict(x)\n",
    "predict "
   ]
  }
 ],
 "metadata": {
  "kernelspec": {
   "display_name": "Python 3",
   "language": "python",
   "name": "python3"
  },
  "language_info": {
   "codemirror_mode": {
    "name": "ipython",
    "version": 3
   },
   "file_extension": ".py",
   "mimetype": "text/x-python",
   "name": "python",
   "nbconvert_exporter": "python",
   "pygments_lexer": "ipython3",
   "version": "3.6.9"
  }
 },
 "nbformat": 4,
 "nbformat_minor": 2
}
