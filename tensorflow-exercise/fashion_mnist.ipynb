{
 "cells": [
  {
   "cell_type": "code",
   "execution_count": 6,
   "metadata": {},
   "outputs": [],
   "source": [
    "import tensorflow as tf\n",
    "import numpy as np\n",
    "from tensorflow import keras\n",
    "import matplotlib.pyplot as plt\n",
    "import warnings; \n",
    "warnings.simplefilter('ignore')"
   ]
  },
  {
   "cell_type": "code",
   "execution_count": 7,
   "metadata": {},
   "outputs": [],
   "source": [
    "data = tf.keras.datasets.fashion_mnist"
   ]
  },
  {
   "cell_type": "code",
   "execution_count": 8,
   "metadata": {},
   "outputs": [],
   "source": [
    "(X_train, y_train), (X_test, y_test) = data.load_data()"
   ]
  },
  {
   "cell_type": "code",
   "execution_count": null,
   "metadata": {},
   "outputs": [],
   "source": [
    "\n",
    "\n",
    "    0 T-shirt/top\n",
    "    1 Trouser\n",
    "    2 Pullover\n",
    "    3 Dress\n",
    "    4 Coat\n",
    "    5 Sandal\n",
    "    6 Shirt\n",
    "    7 Sneaker\n",
    "    8 Bag\n",
    "    9 Ankle boot "
   ]
  },
  {
   "cell_type": "code",
   "execution_count": 28,
   "metadata": {},
   "outputs": [
    {
     "data": {
      "image/png": "[encoded data removed]",
      "text/plain": [
       "<Figure size 432x288 with 9 Axes>"
      ]
     },
     "metadata": {
      "needs_background": "light"
     },
     "output_type": "display_data"
    }
   ],
   "source": [
    "label = {0: \"T-shirt/top\", 1: \"Trouser\", 2: \"Pullover\", 3: \"Dress\", 4: \"Coat\", 5: \"Sandal\", 6: \"Shirt\", 7: \"Sneaker\",\n",
    "         8: \"Bag\", 9: \"Ankle boot\"}\n",
    "\n",
    "for i in range(9):\n",
    "    # define subplot\n",
    "    plt.subplot(330 + 1 + i)\n",
    "    # plot raw pixel data\n",
    "    plt.title(label[y_train[i]])\n",
    "    plt.imshow(X_train[i], cmap=plt.get_cmap('gray'))\n",
    "    plt.subplots_adjust(hspace=.5)\n",
    "# show the figure\n",
    "plt.show()"
   ]
  },
  {
   "cell_type": "markdown",
   "metadata": {},
   "source": [
    "#### normalizing values between 0 - 1"
   ]
  },
  {
   "cell_type": "code",
   "execution_count": 6,
   "metadata": {},
   "outputs": [],
   "source": [
    "X_train = X_train / 255.0\n",
    "X_test = X_test / 255.0"
   ]
  },
  {
   "cell_type": "code",
   "execution_count": 15,
   "metadata": {},
   "outputs": [],
   "source": [
    "class myCallback(tf.keras.callbacks.Callback):\n",
    "  def on_epoch_end(self, epoch, logs={}):\n",
    "    if(logs.get('acc')>0.95):\n",
    "      print(\"\\nReached 95% accuracy so cancelling training!\")\n",
    "      self.model.stop_training = True\n",
    "\n",
    "callbacks = myCallback()"
   ]
  },
  {
   "cell_type": "code",
   "execution_count": 16,
   "metadata": {},
   "outputs": [
    {
     "name": "stdout",
     "output_type": "stream",
     "text": [
      "Epoch 1/30\n",
      "60000/60000 [==============================] - 5s 81us/step - loss: 0.4746 - acc: 0.8300\n",
      "Epoch 2/30\n",
      "60000/60000 [==============================] - 5s 77us/step - loss: 0.3595 - acc: 0.8678\n",
      "Epoch 3/30\n",
      "60000/60000 [==============================] - 5s 77us/step - loss: 0.3222 - acc: 0.8814\n",
      "Epoch 4/30\n",
      "60000/60000 [==============================] - 5s 77us/step - loss: 0.2996 - acc: 0.8890\n",
      "Epoch 5/30\n",
      "60000/60000 [==============================] - 5s 77us/step - loss: 0.2810 - acc: 0.8956\n",
      "Epoch 6/30\n",
      "60000/60000 [==============================] - 5s 78us/step - loss: 0.2653 - acc: 0.9001\n",
      "Epoch 7/30\n",
      "60000/60000 [==============================] - 5s 78us/step - loss: 0.2533 - acc: 0.9060\n",
      "Epoch 8/30\n",
      "60000/60000 [==============================] - 5s 78us/step - loss: 0.2433 - acc: 0.9083\n",
      "Epoch 9/30\n",
      "60000/60000 [==============================] - 5s 78us/step - loss: 0.2323 - acc: 0.9126\n",
      "Epoch 10/30\n",
      "60000/60000 [==============================] - 5s 78us/step - loss: 0.2226 - acc: 0.9154\n",
      "Epoch 11/30\n",
      "60000/60000 [==============================] - 5s 78us/step - loss: 0.2165 - acc: 0.9182\n",
      "Epoch 12/30\n",
      "60000/60000 [==============================] - 5s 78us/step - loss: 0.2044 - acc: 0.9241\n",
      "Epoch 13/30\n",
      "60000/60000 [==============================] - 5s 78us/step - loss: 0.1995 - acc: 0.9240\n",
      "Epoch 14/30\n",
      "60000/60000 [==============================] - 5s 78us/step - loss: 0.1918 - acc: 0.9274\n",
      "Epoch 15/30\n",
      "60000/60000 [==============================] - 5s 78us/step - loss: 0.1859 - acc: 0.9304\n",
      "Epoch 16/30\n",
      "60000/60000 [==============================] - 5s 79us/step - loss: 0.1788 - acc: 0.9318\n",
      "Epoch 17/30\n",
      "60000/60000 [==============================] - 5s 79us/step - loss: 0.1721 - acc: 0.9351\n",
      "Epoch 18/30\n",
      "60000/60000 [==============================] - 5s 80us/step - loss: 0.1666 - acc: 0.9366\n",
      "Epoch 19/30\n",
      "60000/60000 [==============================] - 5s 78us/step - loss: 0.1647 - acc: 0.9374\n",
      "Epoch 20/30\n",
      "60000/60000 [==============================] - 5s 78us/step - loss: 0.1585 - acc: 0.9398\n",
      "Epoch 21/30\n",
      "60000/60000 [==============================] - 5s 79us/step - loss: 0.1503 - acc: 0.9427\n",
      "Epoch 22/30\n",
      "60000/60000 [==============================] - 5s 79us/step - loss: 0.1506 - acc: 0.9418\n",
      "Epoch 23/30\n",
      "60000/60000 [==============================] - 5s 79us/step - loss: 0.1422 - acc: 0.9455\n",
      "Epoch 24/30\n",
      "60000/60000 [==============================] - 5s 79us/step - loss: 0.1431 - acc: 0.9457\n",
      "Epoch 25/30\n",
      "60000/60000 [==============================] - 5s 79us/step - loss: 0.1377 - acc: 0.9479\n",
      "Epoch 26/30\n",
      "60000/60000 [==============================] - 5s 81us/step - loss: 0.1343 - acc: 0.9488\n",
      "Epoch 27/30\n",
      "60000/60000 [==============================] - 5s 80us/step - loss: 0.1303 - acc: 0.9507\n",
      "\n",
      "Reached 95% accuracy so cancelling training!\n"
     ]
    },
    {
     "data": {
      "text/plain": [
       "<tensorflow.python.keras.callbacks.History at 0x7fab0806cb00>"
      ]
     },
     "execution_count": 16,
     "metadata": {},
     "output_type": "execute_result"
    }
   ],
   "source": [
    "model = tf.keras.models.Sequential([tf.keras.layers.Flatten(),\n",
    "                             tf.keras.layers.Dense(units=512, activation=tf.nn.relu),\n",
    "                             tf.keras.layers.Dense(units=10, activation=tf.nn.softmax)])\n",
    "\n",
    "model.compile(optimizer = tf.train.AdamOptimizer(),\n",
    "              loss = \"sparse_categorical_crossentropy\",\n",
    "              metrics=[\"accuracy\"])\n",
    "\n",
    "model.fit(X_train, y_train, epochs=30)"
   ]
  },
  {
   "cell_type": "code",
   "execution_count": 17,
   "metadata": {},
   "outputs": [
    {
     "name": "stdout",
     "output_type": "stream",
     "text": [
      "[[0.         0.         0.         0.         0.         0.\n",
      "  0.         0.         0.         0.         0.         0.\n",
      "  0.         0.         0.         0.         0.         0.\n",
      "  0.         0.         0.         0.         0.         0.\n",
      "  0.         0.         0.         0.        ]\n",
      " [0.         0.         0.         0.         0.         0.\n",
      "  0.         0.         0.         0.         0.         0.\n",
      "  0.         0.         0.         0.         0.         0.\n",
      "  0.         0.         0.         0.         0.         0.\n",
      "  0.         0.         0.         0.        ]\n",
      " [0.         0.         0.         0.         0.         0.\n",
      "  0.         0.         0.         0.         0.         0.\n",
      "  0.         0.         0.         0.         0.         0.\n",
      "  0.         0.         0.         0.         0.         0.\n",
      "  0.         0.         0.         0.        ]\n",
      " [0.         0.         0.         0.         0.         0.\n",
      "  0.         0.         0.         0.         0.         0.\n",
      "  0.         0.         0.         0.         0.         0.\n",
      "  0.         0.         0.         0.         0.         0.\n",
      "  0.         0.         0.         0.        ]\n",
      " [0.         0.         0.         0.         0.         0.\n",
      "  0.         0.         0.         0.         0.         0.\n",
      "  0.         0.         0.         0.         0.         0.\n",
      "  0.         0.         0.         0.         0.         0.\n",
      "  0.         0.         0.         0.        ]\n",
      " [0.         0.         0.         0.         0.         0.\n",
      "  0.         0.         0.         0.         0.         0.\n",
      "  0.         0.         0.         0.         0.         0.\n",
      "  0.         0.         0.         0.         0.         0.\n",
      "  0.         0.         0.         0.        ]\n",
      " [0.         0.         0.         0.         0.         0.\n",
      "  0.         0.         0.         0.         0.         0.\n",
      "  0.         0.         0.         0.         0.         0.\n",
      "  0.         0.         0.         0.         0.         0.\n",
      "  0.         0.         0.         0.        ]\n",
      " [0.         0.         0.         0.         0.         0.\n",
      "  0.         0.         0.         0.         0.         0.\n",
      "  0.         0.         0.         0.         0.         0.\n",
      "  0.         0.01176471 0.00392157 0.         0.         0.02745098\n",
      "  0.         0.14509804 0.         0.        ]\n",
      " [0.         0.         0.         0.         0.         0.\n",
      "  0.         0.         0.         0.         0.         0.\n",
      "  0.         0.00392157 0.00784314 0.         0.10588235 0.32941176\n",
      "  0.04313725 0.         0.         0.         0.         0.\n",
      "  0.         0.46666667 0.         0.        ]\n",
      " [0.         0.         0.         0.         0.         0.\n",
      "  0.         0.         0.         0.         0.         0.\n",
      "  0.         0.00392157 0.         0.         0.34509804 0.56078431\n",
      "  0.43137255 0.         0.         0.         0.         0.08627451\n",
      "  0.36470588 0.41568627 0.         0.        ]\n",
      " [0.         0.         0.         0.         0.         0.\n",
      "  0.         0.         0.         0.         0.         0.\n",
      "  0.         0.01568627 0.         0.20784314 0.50588235 0.47058824\n",
      "  0.57647059 0.68627451 0.61568627 0.65098039 0.52941176 0.60392157\n",
      "  0.65882353 0.54901961 0.         0.        ]\n",
      " [0.         0.         0.         0.         0.         0.\n",
      "  0.         0.         0.         0.         0.         0.\n",
      "  0.00784314 0.         0.04313725 0.5372549  0.50980392 0.50196078\n",
      "  0.62745098 0.69019608 0.62352941 0.65490196 0.69803922 0.58431373\n",
      "  0.59215686 0.56470588 0.         0.        ]\n",
      " [0.         0.         0.         0.         0.         0.\n",
      "  0.00392157 0.         0.00784314 0.00392157 0.         0.01176471\n",
      "  0.         0.         0.45098039 0.44705882 0.41568627 0.5372549\n",
      "  0.65882353 0.6        0.61176471 0.64705882 0.65490196 0.56078431\n",
      "  0.61568627 0.61960784 0.04313725 0.        ]\n",
      " [0.         0.         0.         0.         0.00392157 0.\n",
      "  0.         0.         0.         0.         0.01176471 0.\n",
      "  0.         0.34901961 0.54509804 0.35294118 0.36862745 0.6\n",
      "  0.58431373 0.51372549 0.59215686 0.6627451  0.6745098  0.56078431\n",
      "  0.62352941 0.6627451  0.18823529 0.        ]\n",
      " [0.         0.         0.         0.         0.         0.\n",
      "  0.00784314 0.01568627 0.00392157 0.         0.         0.\n",
      "  0.38431373 0.53333333 0.43137255 0.42745098 0.43137255 0.63529412\n",
      "  0.52941176 0.56470588 0.58431373 0.62352941 0.65490196 0.56470588\n",
      "  0.61960784 0.6627451  0.46666667 0.        ]\n",
      " [0.         0.         0.00784314 0.00784314 0.00392157 0.00784314\n",
      "  0.         0.         0.         0.         0.10196078 0.42352941\n",
      "  0.45882353 0.38823529 0.43529412 0.45882353 0.53333333 0.61176471\n",
      "  0.5254902  0.60392157 0.60392157 0.61176471 0.62745098 0.55294118\n",
      "  0.57647059 0.61176471 0.69803922 0.        ]\n",
      " [0.01176471 0.         0.         0.         0.         0.\n",
      "  0.         0.08235294 0.20784314 0.36078431 0.45882353 0.43529412\n",
      "  0.40392157 0.45098039 0.50588235 0.5254902  0.56078431 0.60392157\n",
      "  0.64705882 0.66666667 0.60392157 0.59215686 0.60392157 0.56078431\n",
      "  0.54117647 0.58823529 0.64705882 0.16862745]\n",
      " [0.         0.         0.09019608 0.21176471 0.25490196 0.29803922\n",
      "  0.33333333 0.4627451  0.50196078 0.48235294 0.43529412 0.44313725\n",
      "  0.4627451  0.49803922 0.49019608 0.54509804 0.52156863 0.53333333\n",
      "  0.62745098 0.54901961 0.60784314 0.63137255 0.56470588 0.60784314\n",
      "  0.6745098  0.63137255 0.74117647 0.24313725]\n",
      " [0.         0.26666667 0.36862745 0.35294118 0.43529412 0.44705882\n",
      "  0.43529412 0.44705882 0.45098039 0.49803922 0.52941176 0.53333333\n",
      "  0.56078431 0.49411765 0.49803922 0.59215686 0.60392157 0.56078431\n",
      "  0.58039216 0.49019608 0.63529412 0.63529412 0.56470588 0.54117647\n",
      "  0.6        0.63529412 0.76862745 0.22745098]\n",
      " [0.2745098  0.6627451  0.50588235 0.40784314 0.38431373 0.39215686\n",
      "  0.36862745 0.38039216 0.38431373 0.4        0.42352941 0.41568627\n",
      "  0.46666667 0.47058824 0.50588235 0.58431373 0.61176471 0.65490196\n",
      "  0.74509804 0.74509804 0.76862745 0.77647059 0.77647059 0.73333333\n",
      "  0.77254902 0.74117647 0.72156863 0.14117647]\n",
      " [0.0627451  0.49411765 0.67058824 0.7372549  0.7372549  0.72156863\n",
      "  0.67058824 0.6        0.52941176 0.47058824 0.49411765 0.49803922\n",
      "  0.57254902 0.7254902  0.76470588 0.81960784 0.81568627 1.\n",
      "  0.81960784 0.69411765 0.96078431 0.98823529 0.98431373 0.98431373\n",
      "  0.96862745 0.8627451  0.80784314 0.19215686]\n",
      " [0.         0.         0.         0.04705882 0.2627451  0.41568627\n",
      "  0.64313725 0.7254902  0.78039216 0.82352941 0.82745098 0.82352941\n",
      "  0.81568627 0.74509804 0.58823529 0.32156863 0.03137255 0.\n",
      "  0.         0.         0.69803922 0.81568627 0.7372549  0.68627451\n",
      "  0.63529412 0.61960784 0.59215686 0.04313725]\n",
      " [0.         0.         0.         0.         0.         0.\n",
      "  0.         0.         0.         0.         0.         0.\n",
      "  0.         0.         0.         0.         0.         0.\n",
      "  0.         0.         0.         0.         0.         0.\n",
      "  0.         0.         0.         0.        ]\n",
      " [0.         0.         0.         0.         0.         0.\n",
      "  0.         0.         0.         0.         0.         0.\n",
      "  0.         0.         0.         0.         0.         0.\n",
      "  0.         0.         0.         0.         0.         0.\n",
      "  0.         0.         0.         0.        ]\n",
      " [0.         0.         0.         0.         0.         0.\n",
      "  0.         0.         0.         0.         0.         0.\n",
      "  0.         0.         0.         0.         0.         0.\n",
      "  0.         0.         0.         0.         0.         0.\n",
      "  0.         0.         0.         0.        ]\n",
      " [0.         0.         0.         0.         0.         0.\n",
      "  0.         0.         0.         0.         0.         0.\n",
      "  0.         0.         0.         0.         0.         0.\n",
      "  0.         0.         0.         0.         0.         0.\n",
      "  0.         0.         0.         0.        ]\n",
      " [0.         0.         0.         0.         0.         0.\n",
      "  0.         0.         0.         0.         0.         0.\n",
      "  0.         0.         0.         0.         0.         0.\n",
      "  0.         0.         0.         0.         0.         0.\n",
      "  0.         0.         0.         0.        ]\n",
      " [0.         0.         0.         0.         0.         0.\n",
      "  0.         0.         0.         0.         0.         0.\n",
      "  0.         0.         0.         0.         0.         0.\n",
      "  0.         0.         0.         0.         0.         0.\n",
      "  0.         0.         0.         0.        ]]\n"
     ]
    }
   ],
   "source": [
    "y_pred = model.predict(X_test)"
   ]
  },
  {
   "cell_type": "code",
   "execution_count": 18,
   "metadata": {},
   "outputs": [
    {
     "name": "stdout",
     "output_type": "stream",
     "text": [
      "9\n"
     ]
    },
    {
     "data": {
      "image/png": "[encoded data removed]",
      "text/plain": [
       "<Figure size 432x288 with 1 Axes>"
      ]
     },
     "metadata": {
      "needs_background": "light"
     },
     "output_type": "display_data"
    }
   ],
   "source": [
    "plt.imshow(X_test[0])\n",
    "print(np.argmax(y_pred[0]))"
   ]
  },
  {
   "cell_type": "code",
   "execution_count": 19,
   "metadata": {},
   "outputs": [
    {
     "name": "stdout",
     "output_type": "stream",
     "text": [
      "10000/10000 [==============================] - 0s 37us/step\n",
      "Accuracy:  0.8933\n"
     ]
    }
   ],
   "source": [
    "acc = model.evaluate(X_test, y_test)\n",
    "print(\"Accuracy: \", acc[1])"
   ]
  },
  {
   "cell_type": "markdown",
   "metadata": {},
   "source": [
    "## Add some convolution layers to improve the accuaracy"
   ]
  },
  {
   "cell_type": "code",
   "execution_count": 22,
   "metadata": {},
   "outputs": [],
   "source": [
    "(X_train_cnn, y_train_ccn), (X_test_cnn, y_test_cnn) = data.load_data()\n",
    "#reshape to fit the cnn input layers\n",
    "X_train_cnn = X_train_cnn.reshape(X_train_cnn.shape[0], 28, 28, 1)\n",
    "X_test_cnn = X_test_cnn.reshape(X_test_cnn.shape[0], 28, 28, 1)\n",
    "#normalize\n",
    "X_train_cnn = X_train_cnn / 255.0\n",
    "X_test_cnn = X_test_cnn / 255.0\n"
   ]
  },
  {
   "cell_type": "code",
   "execution_count": 24,
   "metadata": {},
   "outputs": [
    {
     "name": "stdout",
     "output_type": "stream",
     "text": [
      "Epoch 1/10\n",
      "60000/60000 [==============================] - 21s 355us/step - loss: 0.4428 - acc: 0.8384\n",
      "Epoch 2/10\n",
      "60000/60000 [==============================] - 18s 300us/step - loss: 0.2930 - acc: 0.8924\n",
      "Epoch 3/10\n",
      "60000/60000 [==============================] - 18s 301us/step - loss: 0.2510 - acc: 0.9072\n",
      "Epoch 4/10\n",
      "60000/60000 [==============================] - 18s 305us/step - loss: 0.2183 - acc: 0.9183\n",
      "Epoch 5/10\n",
      "60000/60000 [==============================] - 18s 300us/step - loss: 0.1911 - acc: 0.9282\n",
      "Epoch 6/10\n",
      "60000/60000 [==============================] - 18s 298us/step - loss: 0.1691 - acc: 0.9367\n",
      "Epoch 7/10\n",
      "60000/60000 [==============================] - 18s 294us/step - loss: 0.1498 - acc: 0.9438\n",
      "Epoch 8/10\n",
      "60000/60000 [==============================] - 18s 298us/step - loss: 0.1303 - acc: 0.9511\n",
      "Epoch 9/10\n",
      "60000/60000 [==============================] - 18s 296us/step - loss: 0.1154 - acc: 0.9556\n",
      "Epoch 10/10\n",
      "60000/60000 [==============================] - 18s 297us/step - loss: 0.1017 - acc: 0.9610\n"
     ]
    },
    {
     "data": {
      "text/plain": [
       "<tensorflow.python.keras.callbacks.History at 0x7faadc25cc50>"
      ]
     },
     "execution_count": 24,
     "metadata": {},
     "output_type": "execute_result"
    }
   ],
   "source": [
    "#build model\n",
    "model = tf.keras.models.Sequential([\n",
    "    tf.keras.layers.Conv2D(64, (3, 3), activation='relu', input_shape=(28, 28, 1)),\n",
    "    tf.keras.layers.MaxPool2D(2, 2),\n",
    "    tf.keras.layers.Conv2D(64, (3, 3), activation='relu', input_shape=(28, 28, 1)),\n",
    "    tf.keras.layers.MaxPool2D(2, 2),\n",
    "    tf.keras.layers.Flatten(),\n",
    "    tf.keras.layers.Dense(units=128, activation=tf.nn.relu),\n",
    "    tf.keras.layers.Dense(units=10, activation=tf.nn.softmax)])\n",
    "\n",
    "model.compile(optimizer = tf.train.AdamOptimizer(),\n",
    "              loss = \"sparse_categorical_crossentropy\",\n",
    "              metrics=[\"accuracy\"])\n",
    "\n",
    "model.fit(X_train_cnn, y_train, epochs=10)"
   ]
  },
  {
   "cell_type": "code",
   "execution_count": 25,
   "metadata": {},
   "outputs": [
    {
     "name": "stdout",
     "output_type": "stream",
     "text": [
      "10000/10000 [==============================] - 1s 123us/step\n",
      "Test loss: 0.3230583199292421, accuracy: 0.9047\n"
     ]
    }
   ],
   "source": [
    "test_loss, acc = model.evaluate(X_test_cnn, y_test_cnn)\n",
    "print(f'Test loss: {test_loss}, accuracy: {acc}')"
   ]
  },
  {
   "cell_type": "code",
   "execution_count": 27,
   "metadata": {},
   "outputs": [
    {
     "data": {
      "image/png": "[encoded data removed]",
      "text/plain": [
       "<Figure size 432x288 with 12 Axes>"
      ]
     },
     "metadata": {
      "needs_background": "light"
     },
     "output_type": "display_data"
    }
   ],
   "source": [
    "import matplotlib.pyplot as plt\n",
    "f, axarr = plt.subplots(3,4)\n",
    "FIRST_IMAGE=0\n",
    "SECOND_IMAGE=23\n",
    "THIRD_IMAGE=28\n",
    "CONVOLUTION_NUMBER = 6\n",
    "from tensorflow.keras import models\n",
    "layer_outputs = [layer.output for layer in model.layers]\n",
    "activation_model = tf.keras.models.Model(inputs = model.input, outputs = layer_outputs)\n",
    "for x in range(0,4):\n",
    "  f1 = activation_model.predict(X_test[FIRST_IMAGE].reshape(1, 28, 28, 1))[x]\n",
    "  axarr[0,x].imshow(f1[0, : , :, CONVOLUTION_NUMBER], cmap='inferno')\n",
    "  axarr[0,x].grid(False)\n",
    "  f2 = activation_model.predict(X_test[SECOND_IMAGE].reshape(1, 28, 28, 1))[x]\n",
    "  axarr[1,x].imshow(f2[0, : , :, CONVOLUTION_NUMBER], cmap='inferno')\n",
    "  axarr[1,x].grid(False)\n",
    "  f3 = activation_model.predict(X_test[THIRD_IMAGE].reshape(1, 28, 28, 1))[x]\n",
    "  axarr[2,x].imshow(f3[0, : , :, CONVOLUTION_NUMBER], cmap='inferno')\n",
    "  axarr[2,x].grid(False)"
   ]
  }
 ],
 "metadata": {
  "kernelspec": {
   "display_name": "Python 3",
   "language": "python",
   "name": "python3"
  },
  "language_info": {
   "codemirror_mode": {
    "name": "ipython",
    "version": 3
   },
   "file_extension": ".py",
   "mimetype": "text/x-python",
   "name": "python",
   "nbconvert_exporter": "python",
   "pygments_lexer": "ipython3",
   "version": "3.6.9"
  }
 },
 "nbformat": 4,
 "nbformat_minor": 2
}
